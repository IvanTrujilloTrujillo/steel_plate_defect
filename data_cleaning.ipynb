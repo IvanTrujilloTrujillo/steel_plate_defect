{
 "cells": [
  {
   "cell_type": "code",
   "execution_count": 78,
   "metadata": {},
   "outputs": [],
   "source": [
    "import pandas as pd\n",
    "import numpy as np\n",
    "import matplotlib.pyplot as plt\n",
    "import seaborn as sns\n",
    "from sklearn.preprocessing import LabelEncoder, StandardScaler\n",
    "from sklearn.ensemble import RandomForestClassifier\n",
    "from sklearn.model_selection import train_test_split"
   ]
  },
  {
   "cell_type": "code",
   "execution_count": 31,
   "metadata": {},
   "outputs": [],
   "source": [
    "sns.set_style(\"whitegrid\")"
   ]
  },
  {
   "cell_type": "code",
   "execution_count": 32,
   "metadata": {},
   "outputs": [],
   "source": [
    "train = pd.read_csv(\"data/train.csv\")\n",
    "test = pd.read_csv(\"data/test.csv\")"
   ]
  },
  {
   "cell_type": "code",
   "execution_count": 33,
   "metadata": {},
   "outputs": [
    {
     "data": {
      "text/plain": [
       "id                       0\n",
       "X_Minimum                0\n",
       "X_Maximum                0\n",
       "Y_Minimum                0\n",
       "Y_Maximum                0\n",
       "Pixels_Areas             0\n",
       "X_Perimeter              0\n",
       "Y_Perimeter              0\n",
       "Sum_of_Luminosity        0\n",
       "Minimum_of_Luminosity    0\n",
       "Maximum_of_Luminosity    0\n",
       "Length_of_Conveyer       0\n",
       "TypeOfSteel_A300         0\n",
       "TypeOfSteel_A400         0\n",
       "Steel_Plate_Thickness    0\n",
       "Edges_Index              0\n",
       "Empty_Index              0\n",
       "Square_Index             0\n",
       "Outside_X_Index          0\n",
       "Edges_X_Index            0\n",
       "Edges_Y_Index            0\n",
       "Outside_Global_Index     0\n",
       "LogOfAreas               0\n",
       "Log_X_Index              0\n",
       "Log_Y_Index              0\n",
       "Orientation_Index        0\n",
       "Luminosity_Index         0\n",
       "SigmoidOfAreas           0\n",
       "Pastry                   0\n",
       "Z_Scratch                0\n",
       "K_Scatch                 0\n",
       "Stains                   0\n",
       "Dirtiness                0\n",
       "Bumps                    0\n",
       "Other_Faults             0\n",
       "dtype: int64"
      ]
     },
     "execution_count": 33,
     "metadata": {},
     "output_type": "execute_result"
    }
   ],
   "source": [
    "train.isnull().sum()"
   ]
  },
  {
   "cell_type": "code",
   "execution_count": 34,
   "metadata": {},
   "outputs": [
    {
     "data": {
      "text/plain": [
       "id                       0\n",
       "X_Minimum                0\n",
       "X_Maximum                0\n",
       "Y_Minimum                0\n",
       "Y_Maximum                0\n",
       "Pixels_Areas             0\n",
       "X_Perimeter              0\n",
       "Y_Perimeter              0\n",
       "Sum_of_Luminosity        0\n",
       "Minimum_of_Luminosity    0\n",
       "Maximum_of_Luminosity    0\n",
       "Length_of_Conveyer       0\n",
       "TypeOfSteel_A300         0\n",
       "TypeOfSteel_A400         0\n",
       "Steel_Plate_Thickness    0\n",
       "Edges_Index              0\n",
       "Empty_Index              0\n",
       "Square_Index             0\n",
       "Outside_X_Index          0\n",
       "Edges_X_Index            0\n",
       "Edges_Y_Index            0\n",
       "Outside_Global_Index     0\n",
       "LogOfAreas               0\n",
       "Log_X_Index              0\n",
       "Log_Y_Index              0\n",
       "Orientation_Index        0\n",
       "Luminosity_Index         0\n",
       "SigmoidOfAreas           0\n",
       "dtype: int64"
      ]
     },
     "execution_count": 34,
     "metadata": {},
     "output_type": "execute_result"
    }
   ],
   "source": [
    "test.isnull().sum()"
   ]
  },
  {
   "cell_type": "code",
   "execution_count": 35,
   "metadata": {},
   "outputs": [
    {
     "name": "stdout",
     "output_type": "stream",
     "text": [
      "(19219, 35)\n",
      "(19219, 35)\n"
     ]
    }
   ],
   "source": [
    "print(train.shape)\n",
    "train = train.drop_duplicates()\n",
    "print(train.shape)"
   ]
  },
  {
   "cell_type": "code",
   "execution_count": 36,
   "metadata": {},
   "outputs": [],
   "source": [
    "train[\"defect\"] = np.where(\n",
    "    train[\"Pastry\"] == 1, \"Pastry\",\n",
    "    np.where(train[\"Z_Scratch\"] == 1, \"Z_Scratch\",\n",
    "             np.where(train[\"K_Scatch\"] == 1, \"K_Scatch\",\n",
    "                      np.where(train[\"Stains\"] == 1, \"Stains\",\n",
    "                               np.where(train[\"Dirtiness\"] == 1, \"Dirtiness\",\n",
    "                                        np.where(train[\"Bumps\"] == 1, \"Bumps\",\n",
    "                                                 np.where(train[\"Other_Faults\"] == 1, \"Other_Faults\", \"No_Defect\")))))))"
   ]
  },
  {
   "cell_type": "code",
   "execution_count": 37,
   "metadata": {},
   "outputs": [],
   "source": [
    "label_encoder = LabelEncoder()"
   ]
  },
  {
   "cell_type": "code",
   "execution_count": 38,
   "metadata": {},
   "outputs": [],
   "source": [
    "label_encoder = label_encoder.fit(train[\"defect\"])\n",
    "train[\"defect\"] = label_encoder.transform(train[\"defect\"])"
   ]
  },
  {
   "cell_type": "code",
   "execution_count": 39,
   "metadata": {},
   "outputs": [
    {
     "data": {
      "text/plain": [
       "array(['Bumps', 'Dirtiness', 'K_Scatch', 'No_Defect', 'Other_Faults',\n",
       "       'Pastry', 'Stains', 'Z_Scratch'], dtype=object)"
      ]
     },
     "execution_count": 39,
     "metadata": {},
     "output_type": "execute_result"
    }
   ],
   "source": [
    "label_encoder.classes_"
   ]
  },
  {
   "cell_type": "code",
   "execution_count": 40,
   "metadata": {},
   "outputs": [
    {
     "data": {
      "text/plain": [
       "defect\n",
       "4    6540\n",
       "0    4761\n",
       "2    3431\n",
       "5    1466\n",
       "7    1150\n",
       "3     818\n",
       "6     568\n",
       "1     485\n",
       "Name: count, dtype: int64"
      ]
     },
     "execution_count": 40,
     "metadata": {},
     "output_type": "execute_result"
    }
   ],
   "source": [
    "train[\"defect\"].value_counts()"
   ]
  },
  {
   "cell_type": "code",
   "execution_count": 41,
   "metadata": {},
   "outputs": [
    {
     "data": {
      "text/plain": [
       "<Axes: xlabel='defect'>"
      ]
     },
     "execution_count": 41,
     "metadata": {},
     "output_type": "execute_result"
    },
    {
     "data": {
      "image/png": "[encoded data removed]",
      "text/plain": [
       "<Figure size 640x480 with 1 Axes>"
      ]
     },
     "metadata": {},
     "output_type": "display_data"
    }
   ],
   "source": [
    "train[\"defect\"].value_counts().plot(kind=\"bar\")"
   ]
  },
  {
   "cell_type": "code",
   "execution_count": 42,
   "metadata": {},
   "outputs": [],
   "source": [
    "pd.DataFrame(label_encoder.classes_, columns=[\"Defect\"]).to_csv(\"data/defect_classes.csv\", index=False)"
   ]
  },
  {
   "cell_type": "code",
   "execution_count": 43,
   "metadata": {},
   "outputs": [],
   "source": [
    "train = train.drop([\"Pastry\", \"Z_Scratch\", \"K_Scatch\", \"Stains\", \"Dirtiness\", \"Bumps\", \"Other_Faults\"], axis=1)"
   ]
  },
  {
   "cell_type": "code",
   "execution_count": 44,
   "metadata": {},
   "outputs": [],
   "source": [
    "train = train.drop(\"id\", axis=1)"
   ]
  },
  {
   "cell_type": "code",
   "execution_count": 70,
   "metadata": {},
   "outputs": [],
   "source": [
    "test = test.drop(\"id\", axis=1)"
   ]
  },
  {
   "cell_type": "code",
   "execution_count": 45,
   "metadata": {},
   "outputs": [],
   "source": [
    "train = train.drop([\"Y_Minimum\", \"Y_Maximum\", \"TypeOfSteel_A400\"], axis=1)"
   ]
  },
  {
   "cell_type": "code",
   "execution_count": 71,
   "metadata": {},
   "outputs": [],
   "source": [
    "test = test.drop([\"Y_Minimum\", \"Y_Maximum\", \"TypeOfSteel_A400\"], axis=1)"
   ]
  },
  {
   "cell_type": "code",
   "execution_count": 46,
   "metadata": {},
   "outputs": [],
   "source": [
    "standard_scaler = StandardScaler()"
   ]
  },
  {
   "cell_type": "code",
   "execution_count": 49,
   "metadata": {},
   "outputs": [],
   "source": [
    "columns_to_scale = train.drop([\"defect\", \"TypeOfSteel_A300\", \"Outside_Global_Index\"], axis=1).columns"
   ]
  },
  {
   "cell_type": "code",
   "execution_count": 47,
   "metadata": {},
   "outputs": [],
   "source": [
    "# Exclude the target column, TypeOfSteel_A300 and Outside_Global_Index\n",
    "train_scaled = standard_scaler.fit_transform(train.drop([\"defect\", \"TypeOfSteel_A300\", \"Outside_Global_Index\"], axis=1))"
   ]
  },
  {
   "cell_type": "code",
   "execution_count": 54,
   "metadata": {},
   "outputs": [],
   "source": [
    "for i, col in enumerate(columns_to_scale):\n",
    "    train[col] = train_scaled[:, i]"
   ]
  },
  {
   "cell_type": "code",
   "execution_count": 73,
   "metadata": {},
   "outputs": [],
   "source": [
    "test_scaled = standard_scaler.transform(test.drop([\"TypeOfSteel_A300\", \"Outside_Global_Index\"], axis=1))"
   ]
  },
  {
   "cell_type": "code",
   "execution_count": 74,
   "metadata": {},
   "outputs": [],
   "source": [
    "for i, col in enumerate(columns_to_scale):\n",
    "    test[col] = test_scaled[:, i]"
   ]
  },
  {
   "cell_type": "code",
   "execution_count": 55,
   "metadata": {},
   "outputs": [
    {
     "data": {
      "text/html": [
       "<div>\n",
       "<style scoped>\n",
       "    .dataframe tbody tr th:only-of-type {\n",
       "        vertical-align: middle;\n",
       "    }\n",
       "\n",
       "    .dataframe tbody tr th {\n",
       "        vertical-align: top;\n",
       "    }\n",
       "\n",
       "    .dataframe thead th {\n",
       "        text-align: right;\n",
       "    }\n",
       "</style>\n",
       "<table border=\"1\" class=\"dataframe\">\n",
       "  <thead>\n",
       "    <tr style=\"text-align: right;\">\n",
       "      <th></th>\n",
       "      <th>X_Minimum</th>\n",
       "      <th>X_Maximum</th>\n",
       "      <th>Pixels_Areas</th>\n",
       "      <th>X_Perimeter</th>\n",
       "      <th>Y_Perimeter</th>\n",
       "      <th>Sum_of_Luminosity</th>\n",
       "      <th>Minimum_of_Luminosity</th>\n",
       "      <th>Maximum_of_Luminosity</th>\n",
       "      <th>Length_of_Conveyer</th>\n",
       "      <th>TypeOfSteel_A300</th>\n",
       "      <th>Steel_Plate_Thickness</th>\n",
       "      <th>Edges_Index</th>\n",
       "      <th>Empty_Index</th>\n",
       "      <th>Square_Index</th>\n",
       "      <th>Outside_X_Index</th>\n",
       "    </tr>\n",
       "  </thead>\n",
       "  <tbody>\n",
       "    <tr>\n",
       "      <th>0</th>\n",
       "      <td>-0.236778</td>\n",
       "      <td>-0.327831</td>\n",
       "      <td>-0.447155</td>\n",
       "      <td>-0.492949</td>\n",
       "      <td>-0.585088</td>\n",
       "      <td>-0.428885</td>\n",
       "      <td>0.978888</td>\n",
       "      <td>0.799671</td>\n",
       "      <td>-0.696258</td>\n",
       "      <td>0</td>\n",
       "      <td>-0.486053</td>\n",
       "      <td>1.211284</td>\n",
       "      <td>-0.074992</td>\n",
       "      <td>-0.287248</td>\n",
       "      <td>-0.522389</td>\n",
       "    </tr>\n",
       "    <tr>\n",
       "      <th>1</th>\n",
       "      <td>0.184647</td>\n",
       "      <td>0.124329</td>\n",
       "      <td>-0.335365</td>\n",
       "      <td>-0.425464</td>\n",
       "      <td>-0.100187</td>\n",
       "      <td>-0.333403</td>\n",
       "      <td>-0.514188</td>\n",
       "      <td>-1.243070</td>\n",
       "      <td>1.563902</td>\n",
       "      <td>1</td>\n",
       "      <td>0.070218</td>\n",
       "      <td>1.330105</td>\n",
       "      <td>-0.978808</td>\n",
       "      <td>-1.219680</td>\n",
       "      <td>-0.554101</td>\n",
       "    </tr>\n",
       "    <tr>\n",
       "      <th>2</th>\n",
       "      <td>-1.262119</td>\n",
       "      <td>-1.124112</td>\n",
       "      <td>2.601456</td>\n",
       "      <td>3.426816</td>\n",
       "      <td>3.521726</td>\n",
       "      <td>2.532830</td>\n",
       "      <td>-1.937820</td>\n",
       "      <td>0.870111</td>\n",
       "      <td>-0.407727</td>\n",
       "      <td>0</td>\n",
       "      <td>-0.671477</td>\n",
       "      <td>-0.931879</td>\n",
       "      <td>0.957711</td>\n",
       "      <td>1.599588</td>\n",
       "      <td>1.629799</td>\n",
       "    </tr>\n",
       "    <tr>\n",
       "      <th>3</th>\n",
       "      <td>0.133850</td>\n",
       "      <td>0.070310</td>\n",
       "      <td>-0.395147</td>\n",
       "      <td>-0.447959</td>\n",
       "      <td>-0.347586</td>\n",
       "      <td>-0.426785</td>\n",
       "      <td>1.013611</td>\n",
       "      <td>0.377035</td>\n",
       "      <td>-0.497034</td>\n",
       "      <td>0</td>\n",
       "      <td>-0.671477</td>\n",
       "      <td>1.151404</td>\n",
       "      <td>-0.612287</td>\n",
       "      <td>-0.929812</td>\n",
       "      <td>-0.554101</td>\n",
       "    </tr>\n",
       "    <tr>\n",
       "      <th>4</th>\n",
       "      <td>1.561802</td>\n",
       "      <td>1.612854</td>\n",
       "      <td>-0.311774</td>\n",
       "      <td>-0.133028</td>\n",
       "      <td>0.028460</td>\n",
       "      <td>-0.324913</td>\n",
       "      <td>-0.097516</td>\n",
       "      <td>-1.243070</td>\n",
       "      <td>1.598251</td>\n",
       "      <td>0</td>\n",
       "      <td>4.149538</td>\n",
       "      <td>-0.726843</td>\n",
       "      <td>1.010071</td>\n",
       "      <td>-1.889997</td>\n",
       "      <td>-0.241209</td>\n",
       "    </tr>\n",
       "  </tbody>\n",
       "</table>\n",
       "</div>"
      ],
      "text/plain": [
       "   X_Minimum  X_Maximum  Pixels_Areas  X_Perimeter  Y_Perimeter  \\\n",
       "0  -0.236778  -0.327831     -0.447155    -0.492949    -0.585088   \n",
       "1   0.184647   0.124329     -0.335365    -0.425464    -0.100187   \n",
       "2  -1.262119  -1.124112      2.601456     3.426816     3.521726   \n",
       "3   0.133850   0.070310     -0.395147    -0.447959    -0.347586   \n",
       "4   1.561802   1.612854     -0.311774    -0.133028     0.028460   \n",
       "\n",
       "   Sum_of_Luminosity  Minimum_of_Luminosity  Maximum_of_Luminosity  \\\n",
       "0          -0.428885               0.978888               0.799671   \n",
       "1          -0.333403              -0.514188              -1.243070   \n",
       "2           2.532830              -1.937820               0.870111   \n",
       "3          -0.426785               1.013611               0.377035   \n",
       "4          -0.324913              -0.097516              -1.243070   \n",
       "\n",
       "   Length_of_Conveyer  TypeOfSteel_A300  Steel_Plate_Thickness  Edges_Index  \\\n",
       "0           -0.696258                 0              -0.486053     1.211284   \n",
       "1            1.563902                 1               0.070218     1.330105   \n",
       "2           -0.407727                 0              -0.671477    -0.931879   \n",
       "3           -0.497034                 0              -0.671477     1.151404   \n",
       "4            1.598251                 0               4.149538    -0.726843   \n",
       "\n",
       "   Empty_Index  Square_Index  Outside_X_Index  \n",
       "0    -0.074992     -0.287248        -0.522389  \n",
       "1    -0.978808     -1.219680        -0.554101  \n",
       "2     0.957711      1.599588         1.629799  \n",
       "3    -0.612287     -0.929812        -0.554101  \n",
       "4     1.010071     -1.889997        -0.241209  "
      ]
     },
     "execution_count": 55,
     "metadata": {},
     "output_type": "execute_result"
    }
   ],
   "source": [
    "train.iloc[:, :15].head()"
   ]
  },
  {
   "cell_type": "code",
   "execution_count": 56,
   "metadata": {},
   "outputs": [
    {
     "data": {
      "text/html": [
       "<div>\n",
       "<style scoped>\n",
       "    .dataframe tbody tr th:only-of-type {\n",
       "        vertical-align: middle;\n",
       "    }\n",
       "\n",
       "    .dataframe tbody tr th {\n",
       "        vertical-align: top;\n",
       "    }\n",
       "\n",
       "    .dataframe thead th {\n",
       "        text-align: right;\n",
       "    }\n",
       "</style>\n",
       "<table border=\"1\" class=\"dataframe\">\n",
       "  <thead>\n",
       "    <tr style=\"text-align: right;\">\n",
       "      <th></th>\n",
       "      <th>Edges_X_Index</th>\n",
       "      <th>Edges_Y_Index</th>\n",
       "      <th>Outside_Global_Index</th>\n",
       "      <th>LogOfAreas</th>\n",
       "      <th>Log_X_Index</th>\n",
       "      <th>Log_Y_Index</th>\n",
       "      <th>Orientation_Index</th>\n",
       "      <th>Luminosity_Index</th>\n",
       "      <th>SigmoidOfAreas</th>\n",
       "      <th>defect</th>\n",
       "    </tr>\n",
       "  </thead>\n",
       "  <tbody>\n",
       "    <tr>\n",
       "      <th>0</th>\n",
       "      <td>1.732355</td>\n",
       "      <td>0.761892</td>\n",
       "      <td>0.0</td>\n",
       "      <td>-1.669010</td>\n",
       "      <td>-0.875450</td>\n",
       "      <td>-1.703257</td>\n",
       "      <td>-1.235969</td>\n",
       "      <td>1.063494</td>\n",
       "      <td>-1.294971</td>\n",
       "      <td>6</td>\n",
       "    </tr>\n",
       "    <tr>\n",
       "      <th>1</th>\n",
       "      <td>-1.640168</td>\n",
       "      <td>0.761892</td>\n",
       "      <td>1.0</td>\n",
       "      <td>0.214350</td>\n",
       "      <td>-1.142425</td>\n",
       "      <td>0.844958</td>\n",
       "      <td>1.310641</td>\n",
       "      <td>-1.340511</td>\n",
       "      <td>1.135420</td>\n",
       "      <td>4</td>\n",
       "    </tr>\n",
       "    <tr>\n",
       "      <th>2</th>\n",
       "      <td>-1.701772</td>\n",
       "      <td>-2.018246</td>\n",
       "      <td>0.0</td>\n",
       "      <td>2.081276</td>\n",
       "      <td>1.851790</td>\n",
       "      <td>2.021418</td>\n",
       "      <td>-0.232212</td>\n",
       "      <td>0.365477</td>\n",
       "      <td>1.288636</td>\n",
       "      <td>2</td>\n",
       "    </tr>\n",
       "    <tr>\n",
       "      <th>3</th>\n",
       "      <td>-1.078081</td>\n",
       "      <td>0.449619</td>\n",
       "      <td>1.0</td>\n",
       "      <td>-0.198900</td>\n",
       "      <td>-1.142425</td>\n",
       "      <td>0.102736</td>\n",
       "      <td>1.156438</td>\n",
       "      <td>0.815864</td>\n",
       "      <td>-0.509925</td>\n",
       "      <td>2</td>\n",
       "    </tr>\n",
       "    <tr>\n",
       "      <th>4</th>\n",
       "      <td>-1.817787</td>\n",
       "      <td>0.698985</td>\n",
       "      <td>1.0</td>\n",
       "      <td>0.389091</td>\n",
       "      <td>0.218738</td>\n",
       "      <td>1.210891</td>\n",
       "      <td>1.667237</td>\n",
       "      <td>-0.890123</td>\n",
       "      <td>1.288034</td>\n",
       "      <td>4</td>\n",
       "    </tr>\n",
       "  </tbody>\n",
       "</table>\n",
       "</div>"
      ],
      "text/plain": [
       "   Edges_X_Index  Edges_Y_Index  Outside_Global_Index  LogOfAreas  \\\n",
       "0       1.732355       0.761892                   0.0   -1.669010   \n",
       "1      -1.640168       0.761892                   1.0    0.214350   \n",
       "2      -1.701772      -2.018246                   0.0    2.081276   \n",
       "3      -1.078081       0.449619                   1.0   -0.198900   \n",
       "4      -1.817787       0.698985                   1.0    0.389091   \n",
       "\n",
       "   Log_X_Index  Log_Y_Index  Orientation_Index  Luminosity_Index  \\\n",
       "0    -0.875450    -1.703257          -1.235969          1.063494   \n",
       "1    -1.142425     0.844958           1.310641         -1.340511   \n",
       "2     1.851790     2.021418          -0.232212          0.365477   \n",
       "3    -1.142425     0.102736           1.156438          0.815864   \n",
       "4     0.218738     1.210891           1.667237         -0.890123   \n",
       "\n",
       "   SigmoidOfAreas  defect  \n",
       "0       -1.294971       6  \n",
       "1        1.135420       4  \n",
       "2        1.288636       2  \n",
       "3       -0.509925       2  \n",
       "4        1.288034       4  "
      ]
     },
     "execution_count": 56,
     "metadata": {},
     "output_type": "execute_result"
    }
   ],
   "source": [
    "train.iloc[:, 15:].head()"
   ]
  },
  {
   "cell_type": "code",
   "execution_count": 57,
   "metadata": {},
   "outputs": [],
   "source": [
    "train[\"Outside_Global_Index\"] = train[\"Outside_Global_Index\"].astype(\"int\")"
   ]
  },
  {
   "cell_type": "code",
   "execution_count": 75,
   "metadata": {},
   "outputs": [],
   "source": [
    "test[\"Outside_Global_Index\"] = test[\"Outside_Global_Index\"].astype(\"int\")"
   ]
  },
  {
   "cell_type": "code",
   "execution_count": 58,
   "metadata": {},
   "outputs": [
    {
     "data": {
      "text/html": [
       "<div>\n",
       "<style scoped>\n",
       "    .dataframe tbody tr th:only-of-type {\n",
       "        vertical-align: middle;\n",
       "    }\n",
       "\n",
       "    .dataframe tbody tr th {\n",
       "        vertical-align: top;\n",
       "    }\n",
       "\n",
       "    .dataframe thead th {\n",
       "        text-align: right;\n",
       "    }\n",
       "</style>\n",
       "<table border=\"1\" class=\"dataframe\">\n",
       "  <thead>\n",
       "    <tr style=\"text-align: right;\">\n",
       "      <th></th>\n",
       "      <th>Edges_X_Index</th>\n",
       "      <th>Edges_Y_Index</th>\n",
       "      <th>Outside_Global_Index</th>\n",
       "      <th>LogOfAreas</th>\n",
       "      <th>Log_X_Index</th>\n",
       "      <th>Log_Y_Index</th>\n",
       "      <th>Orientation_Index</th>\n",
       "      <th>Luminosity_Index</th>\n",
       "      <th>SigmoidOfAreas</th>\n",
       "      <th>defect</th>\n",
       "    </tr>\n",
       "  </thead>\n",
       "  <tbody>\n",
       "    <tr>\n",
       "      <th>0</th>\n",
       "      <td>1.732355</td>\n",
       "      <td>0.761892</td>\n",
       "      <td>0</td>\n",
       "      <td>-1.669010</td>\n",
       "      <td>-0.875450</td>\n",
       "      <td>-1.703257</td>\n",
       "      <td>-1.235969</td>\n",
       "      <td>1.063494</td>\n",
       "      <td>-1.294971</td>\n",
       "      <td>6</td>\n",
       "    </tr>\n",
       "    <tr>\n",
       "      <th>1</th>\n",
       "      <td>-1.640168</td>\n",
       "      <td>0.761892</td>\n",
       "      <td>1</td>\n",
       "      <td>0.214350</td>\n",
       "      <td>-1.142425</td>\n",
       "      <td>0.844958</td>\n",
       "      <td>1.310641</td>\n",
       "      <td>-1.340511</td>\n",
       "      <td>1.135420</td>\n",
       "      <td>4</td>\n",
       "    </tr>\n",
       "    <tr>\n",
       "      <th>2</th>\n",
       "      <td>-1.701772</td>\n",
       "      <td>-2.018246</td>\n",
       "      <td>0</td>\n",
       "      <td>2.081276</td>\n",
       "      <td>1.851790</td>\n",
       "      <td>2.021418</td>\n",
       "      <td>-0.232212</td>\n",
       "      <td>0.365477</td>\n",
       "      <td>1.288636</td>\n",
       "      <td>2</td>\n",
       "    </tr>\n",
       "    <tr>\n",
       "      <th>3</th>\n",
       "      <td>-1.078081</td>\n",
       "      <td>0.449619</td>\n",
       "      <td>1</td>\n",
       "      <td>-0.198900</td>\n",
       "      <td>-1.142425</td>\n",
       "      <td>0.102736</td>\n",
       "      <td>1.156438</td>\n",
       "      <td>0.815864</td>\n",
       "      <td>-0.509925</td>\n",
       "      <td>2</td>\n",
       "    </tr>\n",
       "    <tr>\n",
       "      <th>4</th>\n",
       "      <td>-1.817787</td>\n",
       "      <td>0.698985</td>\n",
       "      <td>1</td>\n",
       "      <td>0.389091</td>\n",
       "      <td>0.218738</td>\n",
       "      <td>1.210891</td>\n",
       "      <td>1.667237</td>\n",
       "      <td>-0.890123</td>\n",
       "      <td>1.288034</td>\n",
       "      <td>4</td>\n",
       "    </tr>\n",
       "  </tbody>\n",
       "</table>\n",
       "</div>"
      ],
      "text/plain": [
       "   Edges_X_Index  Edges_Y_Index  Outside_Global_Index  LogOfAreas  \\\n",
       "0       1.732355       0.761892                     0   -1.669010   \n",
       "1      -1.640168       0.761892                     1    0.214350   \n",
       "2      -1.701772      -2.018246                     0    2.081276   \n",
       "3      -1.078081       0.449619                     1   -0.198900   \n",
       "4      -1.817787       0.698985                     1    0.389091   \n",
       "\n",
       "   Log_X_Index  Log_Y_Index  Orientation_Index  Luminosity_Index  \\\n",
       "0    -0.875450    -1.703257          -1.235969          1.063494   \n",
       "1    -1.142425     0.844958           1.310641         -1.340511   \n",
       "2     1.851790     2.021418          -0.232212          0.365477   \n",
       "3    -1.142425     0.102736           1.156438          0.815864   \n",
       "4     0.218738     1.210891           1.667237         -0.890123   \n",
       "\n",
       "   SigmoidOfAreas  defect  \n",
       "0       -1.294971       6  \n",
       "1        1.135420       4  \n",
       "2        1.288636       2  \n",
       "3       -0.509925       2  \n",
       "4        1.288034       4  "
      ]
     },
     "execution_count": 58,
     "metadata": {},
     "output_type": "execute_result"
    }
   ],
   "source": [
    "train.iloc[:, 15:].head()"
   ]
  },
  {
   "cell_type": "code",
   "execution_count": 59,
   "metadata": {},
   "outputs": [
    {
     "data": {
      "text/plain": [
       "(19219, 25)"
      ]
     },
     "execution_count": 59,
     "metadata": {},
     "output_type": "execute_result"
    }
   ],
   "source": [
    "train.shape"
   ]
  },
  {
   "cell_type": "code",
   "execution_count": 64,
   "metadata": {},
   "outputs": [],
   "source": [
    "weights = {\n",
    "    0: 19219 / 4761 / 8,\n",
    "    1: 19219 / 485 / 8,\n",
    "    2: 19219 / 3431 / 8,\n",
    "    3: 19219 / 818 / 8,\n",
    "    4: 19219 / 6540 / 8,\n",
    "    5: 19219 / 1466 / 8,\n",
    "    6: 19219 / 568 / 8,\n",
    "    7: 19219 / 1150 / 8\n",
    "}"
   ]
  },
  {
   "cell_type": "code",
   "execution_count": 65,
   "metadata": {},
   "outputs": [
    {
     "data": {
      "text/plain": [
       "{0: 0.5045946229783659,\n",
       " 1: 4.953350515463917,\n",
       " 2: 0.7001967356455844,\n",
       " 3: 2.936888753056235,\n",
       " 4: 0.367335626911315,\n",
       " 5: 1.6387278308321964,\n",
       " 6: 4.229533450704225,\n",
       " 7: 2.089021739130435}"
      ]
     },
     "execution_count": 65,
     "metadata": {},
     "output_type": "execute_result"
    }
   ],
   "source": [
    "weights"
   ]
  },
  {
   "cell_type": "code",
   "execution_count": 68,
   "metadata": {},
   "outputs": [
    {
     "data": {
      "text/plain": [
       "array([0.04576025, 0.0444685 , 0.06149956, 0.0423019 , 0.0358297 ,\n",
       "       0.0471142 , 0.04169654, 0.02832168, 0.05994722, 0.02089377,\n",
       "       0.04699023, 0.03949343, 0.03870859, 0.03691667, 0.05045368,\n",
       "       0.03617355, 0.02835459, 0.00716304, 0.07018636, 0.05217764,\n",
       "       0.0386746 , 0.04328579, 0.040599  , 0.04298949])"
      ]
     },
     "execution_count": 68,
     "metadata": {},
     "output_type": "execute_result"
    }
   ],
   "source": [
    "rf_model = RandomForestClassifier(n_estimators=100, class_weight=weights, random_state=42)\n",
    "rf_model.fit(train.drop(\"defect\", axis=1), train[\"defect\"])\n",
    "rf_model.feature_importances_"
   ]
  },
  {
   "cell_type": "code",
   "execution_count": 69,
   "metadata": {},
   "outputs": [
    {
     "data": {
      "text/plain": [
       "<Axes: ylabel='None'>"
      ]
     },
     "execution_count": 69,
     "metadata": {},
     "output_type": "execute_result"
    },
    {
     "data": {
      "image/png": "[encoded data removed]",
      "text/plain": [
       "<Figure size 640x480 with 1 Axes>"
      ]
     },
     "metadata": {},
     "output_type": "display_data"
    }
   ],
   "source": [
    "sns.barplot(x=rf_model.feature_importances_, y=train.drop(\"defect\", axis=1).columns)"
   ]
  },
  {
   "cell_type": "code",
   "execution_count": 76,
   "metadata": {},
   "outputs": [],
   "source": [
    "train.to_csv(\"data/with_outliers_and_uncorrelated/train_cleaned.csv\", index=False)"
   ]
  },
  {
   "cell_type": "code",
   "execution_count": 77,
   "metadata": {},
   "outputs": [],
   "source": [
    "test.to_csv(\"data/with_outliers_and_uncorrelated/test_cleaned.csv\", index=False)"
   ]
  },
  {
   "cell_type": "code",
   "execution_count": 79,
   "metadata": {},
   "outputs": [],
   "source": [
    "X_train, X_val, y_train, y_val = train_test_split(train.drop(\"defect\", axis=1), train[\"defect\"], test_size=0.2, random_state=42)"
   ]
  },
  {
   "cell_type": "code",
   "execution_count": 81,
   "metadata": {},
   "outputs": [],
   "source": [
    "np.save(\"data/with_outliers_and_uncorrelated/X_train.npy\", X_train.to_numpy())\n",
    "np.save(\"data/with_outliers_and_uncorrelated/X_val.npy\", X_val.to_numpy())\n",
    "np.save(\"data/with_outliers_and_uncorrelated/y_train.npy\", y_train.to_numpy())\n",
    "np.save(\"data/with_outliers_and_uncorrelated/y_val.npy\", y_val.to_numpy())\n",
    "np.save(\"data/with_outliers_and_uncorrelated/X_test.npy\", test.to_numpy())"
   ]
  }
 ],
 "metadata": {
  "kernelspec": {
   "display_name": "venv",
   "language": "python",
   "name": "python3"
  },
  "language_info": {
   "codemirror_mode": {
    "name": "ipython",
    "version": 3
   },
   "file_extension": ".py",
   "mimetype": "text/x-python",
   "name": "python",
   "nbconvert_exporter": "python",
   "pygments_lexer": "ipython3",
   "version": "3.9.0"
  }
 },
 "nbformat": 4,
 "nbformat_minor": 2
}
